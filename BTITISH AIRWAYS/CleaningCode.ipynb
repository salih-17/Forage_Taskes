{
 "cells": [
  {
   "cell_type": "code",
   "execution_count": 47,
   "id": "bda87599",
   "metadata": {},
   "outputs": [],
   "source": [
    "# https://www.theforage.com/modules/NjynCWzGSaWXQCxSX/X839TXojBwiHpC5va?ref=yztfDg6oaftZ8Ft6A\n",
    "\n",
    "import pandas as pd"
   ]
  },
  {
   "cell_type": "code",
   "execution_count": 48,
   "id": "3f989e55",
   "metadata": {},
   "outputs": [],
   "source": [
    "df = pd.read_excel('Data.xlsx')"
   ]
  },
  {
   "cell_type": "code",
   "execution_count": 49,
   "id": "db80acb8",
   "metadata": {},
   "outputs": [],
   "source": [
    "\n",
    "# Filter pass the uncatogriez \n",
    "df = df[df['reviews'].str.contains (\"Verified\")]"
   ]
  },
  {
   "cell_type": "code",
   "execution_count": 50,
   "id": "5c911901",
   "metadata": {},
   "outputs": [],
   "source": [
    "df[['Category' , 'reviews'] ]= df['reviews'].str.split ('|' , expand= True)"
   ]
  },
  {
   "cell_type": "code",
   "execution_count": null,
   "id": "a495c4b6",
   "metadata": {},
   "outputs": [],
   "source": []
  },
  {
   "cell_type": "code",
   "execution_count": 53,
   "id": "0dd03ad7",
   "metadata": {},
   "outputs": [],
   "source": [
    "df['Category'] =df['Category'].apply(lambda x: ''.join([\" \" if ord(i) < 32 or ord(i) > 126 else i for i in x]))\n",
    "df['Category'] =df['Category'].apply(lambda x: x.strip())"
   ]
  },
  {
   "cell_type": "code",
   "execution_count": 54,
   "id": "fa75064c",
   "metadata": {},
   "outputs": [],
   "source": []
  },
  {
   "cell_type": "code",
   "execution_count": 55,
   "id": "0c005cd6",
   "metadata": {},
   "outputs": [
    {
     "data": {
      "text/plain": [
       "Trip Verified      959\n",
       "Verified Review    770\n",
       "Not Verified       168\n",
       "Name: Category, dtype: int64"
      ]
     },
     "execution_count": 55,
     "metadata": {},
     "output_type": "execute_result"
    }
   ],
   "source": [
    "df['Category'].value_counts()"
   ]
  },
  {
   "cell_type": "code",
   "execution_count": null,
   "id": "8fbd180d",
   "metadata": {},
   "outputs": [],
   "source": []
  },
  {
   "cell_type": "code",
   "execution_count": null,
   "id": "10f18698",
   "metadata": {},
   "outputs": [],
   "source": []
  },
  {
   "cell_type": "code",
   "execution_count": null,
   "id": "4c68d13f",
   "metadata": {},
   "outputs": [],
   "source": []
  },
  {
   "cell_type": "code",
   "execution_count": null,
   "id": "0b22127f",
   "metadata": {},
   "outputs": [],
   "source": []
  },
  {
   "cell_type": "code",
   "execution_count": null,
   "id": "c6ed6f0b",
   "metadata": {},
   "outputs": [],
   "source": []
  }
 ],
 "metadata": {
  "kernelspec": {
   "display_name": "base",
   "language": "python",
   "name": "python3"
  },
  "language_info": {
   "codemirror_mode": {
    "name": "ipython",
    "version": 3
   },
   "file_extension": ".py",
   "mimetype": "text/x-python",
   "name": "python",
   "nbconvert_exporter": "python",
   "pygments_lexer": "ipython3",
   "version": "3.9.12"
  },
  "vscode": {
   "interpreter": {
    "hash": "c627d58bba981f2627636111f659e965966b9a166eabb40ae9a1aeb05b02645b"
   }
  }
 },
 "nbformat": 4,
 "nbformat_minor": 5
}
